{
 "cells": [
  {
   "cell_type": "code",
   "execution_count": 1,
   "id": "f0dd2097",
   "metadata": {},
   "outputs": [
    {
     "name": "stderr",
     "output_type": "stream",
     "text": [
      "2023-09-23 19:08:28.226386: I tensorflow/tsl/cuda/cudart_stub.cc:28] Could not find cuda drivers on your machine, GPU will not be used.\n",
      "2023-09-23 19:08:28.267675: I tensorflow/tsl/cuda/cudart_stub.cc:28] Could not find cuda drivers on your machine, GPU will not be used.\n",
      "2023-09-23 19:08:28.268254: I tensorflow/core/platform/cpu_feature_guard.cc:182] This TensorFlow binary is optimized to use available CPU instructions in performance-critical operations.\n",
      "To enable the following instructions: AVX2 FMA, in other operations, rebuild TensorFlow with the appropriate compiler flags.\n",
      "2023-09-23 19:08:29.085815: W tensorflow/compiler/tf2tensorrt/utils/py_utils.cc:38] TF-TRT Warning: Could not find TensorRT\n"
     ]
    }
   ],
   "source": [
    "import numpy as np\n",
    "import matplotlib.pyplot as plt\n",
    "import tensorflow as tf\n",
    "from utils import *\n"
   ]
  },
  {
   "cell_type": "code",
   "execution_count": 2,
   "id": "73f01386",
   "metadata": {},
   "outputs": [],
   "source": [
    "train_set_x_orig, train_set_y_orig, test_set_x_orig, test_set_y_orig, classes = load_mood_datasets()\n"
   ]
  },
  {
   "cell_type": "markdown",
   "id": "c83e72c3",
   "metadata": {},
   "source": [
    "<h3>This data set contains 600 training data comprising of 64 X 64 colored images of happy and sad faces. 160 test data and binary labels that denotes 1 with happiness and 0 with sadness. <br><br> These data were trained using 2 different models- one a densely connected neural network with 3 layers and a convNet</h3>"
   ]
  },
  {
   "cell_type": "markdown",
   "id": "c7c21418",
   "metadata": {},
   "source": [
    "<h1>DATA VISUALIZATION</h1>"
   ]
  },
  {
   "cell_type": "code",
   "execution_count": 4,
   "id": "013a2ae5",
   "metadata": {},
   "outputs": [
    {
     "data": {
      "text/plain": [
       "(600, 64, 64, 3)"
      ]
     },
     "execution_count": 4,
     "metadata": {},
     "output_type": "execute_result"
    }
   ],
   "source": [
    "train_set_x_orig.shape"
   ]
  },
  {
   "cell_type": "code",
   "execution_count": 18,
   "id": "254bd83c",
   "metadata": {},
   "outputs": [],
   "source": [
    "\n",
    "def show_mood (index):\n",
    "    \n",
    "    plt.imshow(train_set_x_orig[index])\n",
    "    label = train_set_y_orig[:,index][0]\n",
    "    print(\"happy\" if label == 1 else \"sad\")"
   ]
  },
  {
   "cell_type": "code",
   "execution_count": 20,
   "id": "7a36393a",
   "metadata": {},
   "outputs": [
    {
     "name": "stdout",
     "output_type": "stream",
     "text": [
      "sad\n"
     ]
    },
    {
     "data": {
      "image/png": "[encoded data removed]",
      "text/plain": [
       "<Figure size 640x480 with 1 Axes>"
      ]
     },
     "metadata": {},
     "output_type": "display_data"
    }
   ],
   "source": [
    "show_mood(0)"
   ]
  },
  {
   "cell_type": "markdown",
   "id": "1afbc613",
   "metadata": {},
   "source": [
    "<h1>DATA PREPARATION</h1>"
   ]
  },
  {
   "cell_type": "code",
   "execution_count": null,
   "id": "e1a43963",
   "metadata": {},
   "outputs": [],
   "source": [
    "#Both labels were transposed from 1 X 600 dimension to 600 x 1\n",
    "#The input data were pre-processed (rescaled and flattened) with inbuilt keras layers\n",
    "\n",
    "y_test = test_set_y_orig.T\n",
    "y_train = train_set_y_orig.T"
   ]
  },
  {
   "cell_type": "markdown",
   "id": "621c5a6e",
   "metadata": {},
   "source": [
    "<h1>MODEL 1 - DENSE NETWORK</h1>"
   ]
  },
  {
   "cell_type": "code",
   "execution_count": 3,
   "id": "c22ff706",
   "metadata": {},
   "outputs": [
    {
     "name": "stderr",
     "output_type": "stream",
     "text": [
      "2023-09-23 19:08:41.658898: E tensorflow/compiler/xla/stream_executor/cuda/cuda_driver.cc:266] failed call to cuInit: CUDA_ERROR_NO_DEVICE: no CUDA-capable device is detected\n"
     ]
    }
   ],
   "source": [
    "model1 = tf.keras.Sequential()\n",
    "model1.add(tf.keras.layers.Rescaling(1./255, input_shape=(64, 64, 3)))\n",
    "model1.add(tf.keras.layers.Flatten())\n",
    "model1.add(tf.keras.layers.Dense(128, activation=\"relu\"))\n",
    "model1.add(tf.keras.layers.Dense(128, activation=\"relu\"))\n",
    "model1.add(tf.keras.layers.Dense(1, activation=\"sigmoid\"))"
   ]
  },
  {
   "cell_type": "code",
   "execution_count": 4,
   "id": "742c9740",
   "metadata": {},
   "outputs": [
    {
     "name": "stdout",
     "output_type": "stream",
     "text": [
      "Model: \"sequential\"\n",
      "_________________________________________________________________\n",
      " Layer (type)                Output Shape              Param #   \n",
      "=================================================================\n",
      " rescaling (Rescaling)       (None, 64, 64, 3)         0         \n",
      "                                                                 \n",
      " flatten (Flatten)           (None, 12288)             0         \n",
      "                                                                 \n",
      " dense (Dense)               (None, 128)               1572992   \n",
      "                                                                 \n",
      " dense_1 (Dense)             (None, 128)               16512     \n",
      "                                                                 \n",
      " dense_2 (Dense)             (None, 1)                 129       \n",
      "                                                                 \n",
      "=================================================================\n",
      "Total params: 1,589,633\n",
      "Trainable params: 1,589,633\n",
      "Non-trainable params: 0\n",
      "_________________________________________________________________\n"
     ]
    }
   ],
   "source": [
    "model1.summary()"
   ]
  },
  {
   "cell_type": "code",
   "execution_count": 4,
   "id": "8fdbe1b3",
   "metadata": {},
   "outputs": [],
   "source": [
    "model1.compile(\n",
    "    loss=\"binary_crossentropy\",\n",
    "    optimizer=\"adam\",\n",
    "    metrics=[\"acc\"]\n",
    ")"
   ]
  },
  {
   "cell_type": "code",
   "execution_count": 5,
   "id": "b2d52a31",
   "metadata": {},
   "outputs": [
    {
     "name": "stdout",
     "output_type": "stream",
     "text": [
      "Epoch 1/30\n",
      "10/10 [==============================] - 1s 45ms/step - loss: 1.9587 - acc: 0.4567 - val_loss: 0.7084 - val_acc: 0.5533\n",
      "Epoch 2/30\n",
      "10/10 [==============================] - 0s 33ms/step - loss: 0.6857 - acc: 0.5600 - val_loss: 0.6068 - val_acc: 0.6200\n",
      "Epoch 3/30\n",
      "10/10 [==============================] - 0s 31ms/step - loss: 0.5944 - acc: 0.6800 - val_loss: 0.5519 - val_acc: 0.6933\n",
      "Epoch 4/30\n",
      "10/10 [==============================] - 0s 31ms/step - loss: 0.4894 - acc: 0.7733 - val_loss: 0.5119 - val_acc: 0.7133\n",
      "Epoch 5/30\n",
      "10/10 [==============================] - 0s 31ms/step - loss: 0.4449 - acc: 0.8050 - val_loss: 0.4938 - val_acc: 0.7600\n",
      "Epoch 6/30\n",
      "10/10 [==============================] - 0s 31ms/step - loss: 0.4120 - acc: 0.7917 - val_loss: 0.4657 - val_acc: 0.7333\n",
      "Epoch 7/30\n",
      "10/10 [==============================] - 0s 33ms/step - loss: 0.3838 - acc: 0.8367 - val_loss: 0.4269 - val_acc: 0.8000\n",
      "Epoch 8/30\n",
      "10/10 [==============================] - 0s 31ms/step - loss: 0.3627 - acc: 0.8217 - val_loss: 0.4527 - val_acc: 0.7333\n",
      "Epoch 9/30\n",
      "10/10 [==============================] - 0s 33ms/step - loss: 0.3156 - acc: 0.8883 - val_loss: 0.3676 - val_acc: 0.8533\n",
      "Epoch 10/30\n",
      "10/10 [==============================] - 0s 32ms/step - loss: 0.2867 - acc: 0.9050 - val_loss: 0.3446 - val_acc: 0.8533\n",
      "Epoch 11/30\n",
      "10/10 [==============================] - 0s 32ms/step - loss: 0.2641 - acc: 0.9150 - val_loss: 0.3888 - val_acc: 0.7933\n",
      "Epoch 12/30\n",
      "10/10 [==============================] - 0s 32ms/step - loss: 0.2370 - acc: 0.9400 - val_loss: 0.3388 - val_acc: 0.8200\n",
      "Epoch 13/30\n",
      "10/10 [==============================] - 0s 31ms/step - loss: 0.2280 - acc: 0.9317 - val_loss: 0.2649 - val_acc: 0.9267\n",
      "Epoch 14/30\n",
      "10/10 [==============================] - 0s 31ms/step - loss: 0.2014 - acc: 0.9483 - val_loss: 0.2856 - val_acc: 0.8867\n",
      "Epoch 15/30\n",
      "10/10 [==============================] - 0s 31ms/step - loss: 0.1916 - acc: 0.9383 - val_loss: 0.3818 - val_acc: 0.8000\n",
      "Epoch 16/30\n",
      "10/10 [==============================] - 0s 30ms/step - loss: 0.2325 - acc: 0.9167 - val_loss: 0.2462 - val_acc: 0.9133\n",
      "Epoch 17/30\n",
      "10/10 [==============================] - 0s 31ms/step - loss: 0.2095 - acc: 0.9233 - val_loss: 0.2517 - val_acc: 0.9067\n",
      "Epoch 18/30\n",
      "10/10 [==============================] - 0s 32ms/step - loss: 0.1666 - acc: 0.9483 - val_loss: 0.2368 - val_acc: 0.9067\n",
      "Epoch 19/30\n",
      "10/10 [==============================] - 0s 31ms/step - loss: 0.1583 - acc: 0.9550 - val_loss: 0.2044 - val_acc: 0.9467\n",
      "Epoch 20/30\n",
      "10/10 [==============================] - 0s 31ms/step - loss: 0.1380 - acc: 0.9600 - val_loss: 0.1961 - val_acc: 0.9467\n",
      "Epoch 21/30\n",
      "10/10 [==============================] - 0s 31ms/step - loss: 0.1247 - acc: 0.9683 - val_loss: 0.1907 - val_acc: 0.9467\n",
      "Epoch 22/30\n",
      "10/10 [==============================] - 0s 36ms/step - loss: 0.1666 - acc: 0.9350 - val_loss: 0.4449 - val_acc: 0.7667\n",
      "Epoch 23/30\n",
      "10/10 [==============================] - 0s 35ms/step - loss: 0.1884 - acc: 0.9267 - val_loss: 0.5253 - val_acc: 0.7400\n",
      "Epoch 24/30\n",
      "10/10 [==============================] - 0s 33ms/step - loss: 0.2696 - acc: 0.8817 - val_loss: 0.4411 - val_acc: 0.7533\n",
      "Epoch 25/30\n",
      "10/10 [==============================] - 0s 32ms/step - loss: 0.1803 - acc: 0.9350 - val_loss: 0.2092 - val_acc: 0.9200\n",
      "Epoch 26/30\n",
      "10/10 [==============================] - 0s 31ms/step - loss: 0.1159 - acc: 0.9667 - val_loss: 0.2008 - val_acc: 0.9400\n",
      "Epoch 27/30\n",
      "10/10 [==============================] - 0s 31ms/step - loss: 0.1357 - acc: 0.9533 - val_loss: 0.1804 - val_acc: 0.9467\n",
      "Epoch 28/30\n",
      "10/10 [==============================] - 0s 31ms/step - loss: 0.1220 - acc: 0.9600 - val_loss: 0.3064 - val_acc: 0.8467\n",
      "Epoch 29/30\n",
      "10/10 [==============================] - 0s 31ms/step - loss: 0.1100 - acc: 0.9700 - val_loss: 0.1622 - val_acc: 0.9467\n",
      "Epoch 30/30\n",
      "10/10 [==============================] - 0s 31ms/step - loss: 0.0905 - acc: 0.9750 - val_loss: 0.1750 - val_acc: 0.9467\n"
     ]
    }
   ],
   "source": [
    "history = model1.fit(\n",
    "    train_set_x_orig, \n",
    "    y_train, \n",
    "    epochs=30, \n",
    "    batch_size=64, \n",
    "    validation_data=(test_set_x_orig, y_test))"
   ]
  },
  {
   "cell_type": "markdown",
   "id": "849b4518",
   "metadata": {},
   "source": [
    "<h1>RESULT VISUALIZATION - MODEL 1</h1>"
   ]
  },
  {
   "cell_type": "code",
   "execution_count": 11,
   "id": "5ff55e48",
   "metadata": {},
   "outputs": [
    {
     "data": {
      "image/png": "[encoded data removed]",
      "text/plain": [
       "<Figure size 640x480 with 1 Axes>"
      ]
     },
     "metadata": {},
     "output_type": "display_data"
    }
   ],
   "source": [
    "#Loss plot for train and validation data\n",
    "plot(history.history,9)"
   ]
  },
  {
   "cell_type": "code",
   "execution_count": null,
   "id": "bece31f9",
   "metadata": {},
   "outputs": [],
   "source": [
    "#train and validation accuracy plot\n",
    "plot(history.history)"
   ]
  },
  {
   "cell_type": "markdown",
   "id": "8178ef99",
   "metadata": {},
   "source": [
    "<h1>MODEL 1 - CONVNET</h1>"
   ]
  },
  {
   "cell_type": "code",
   "execution_count": 12,
   "id": "f614748c",
   "metadata": {},
   "outputs": [],
   "source": [
    "#model1 which uses densely connected layers has "
   ]
  },
  {
   "cell_type": "code",
   "execution_count": 18,
   "id": "4f269c85",
   "metadata": {},
   "outputs": [],
   "source": [
    "model2 = tf.keras.Sequential()\n",
    "model2.add(tf.keras.layers.Rescaling(1./255, input_shape=(64, 64, 3)))\n",
    "model2.add(tf.keras.layers.ZeroPadding2D(padding=3))\n",
    "model2.add(tf.keras.layers.Conv2D(filters=32, kernel_size=(7,7), strides=1))\n",
    "model2.add(tf.keras.layers.BatchNormalization(axis=3))\n",
    "model2.add(tf.keras.layers.ReLU())\n",
    "model2.add(tf.keras.layers.MaxPool2D())\n",
    "model2.add(tf.keras.layers.Flatten())\n",
    "model2.add(tf.keras.layers.Dense(1, activation=\"sigmoid\"))"
   ]
  },
  {
   "cell_type": "code",
   "execution_count": 19,
   "id": "55bc1524",
   "metadata": {},
   "outputs": [
    {
     "name": "stdout",
     "output_type": "stream",
     "text": [
      "Model: \"sequential_3\"\n",
      "_________________________________________________________________\n",
      " Layer (type)                Output Shape              Param #   \n",
      "=================================================================\n",
      " rescaling_2 (Rescaling)     (None, 64, 64, 3)         0         \n",
      "                                                                 \n",
      " zero_padding2d_2 (ZeroPaddi  (None, 70, 70, 3)        0         \n",
      " ng2D)                                                           \n",
      "                                                                 \n",
      " conv2d_2 (Conv2D)           (None, 64, 64, 32)        4736      \n",
      "                                                                 \n",
      " batch_normalization_2 (Batc  (None, 64, 64, 32)       128       \n",
      " hNormalization)                                                 \n",
      "                                                                 \n",
      " re_lu_2 (ReLU)              (None, 64, 64, 32)        0         \n",
      "                                                                 \n",
      " max_pooling2d_2 (MaxPooling  (None, 32, 32, 32)       0         \n",
      " 2D)                                                             \n",
      "                                                                 \n",
      " flatten_3 (Flatten)         (None, 32768)             0         \n",
      "                                                                 \n",
      " dense_5 (Dense)             (None, 1)                 32769     \n",
      "                                                                 \n",
      "=================================================================\n",
      "Total params: 37,633\n",
      "Trainable params: 37,569\n",
      "Non-trainable params: 64\n",
      "_________________________________________________________________\n"
     ]
    }
   ],
   "source": [
    "model2.summary()"
   ]
  },
  {
   "cell_type": "code",
   "execution_count": 20,
   "id": "e51422b1",
   "metadata": {},
   "outputs": [],
   "source": [
    "model2.compile(loss=\"binary_crossentropy\",\n",
    "              optimizer=\"adam\",\n",
    "              metrics=[\"acc\"])"
   ]
  },
  {
   "cell_type": "code",
   "execution_count": 21,
   "id": "7d4a882d",
   "metadata": {},
   "outputs": [
    {
     "name": "stdout",
     "output_type": "stream",
     "text": [
      "Epoch 1/30\n",
      "10/10 [==============================] - 3s 207ms/step - loss: 2.6709 - acc: 0.5583 - val_loss: 0.7799 - val_acc: 0.5800\n",
      "Epoch 2/30\n",
      "10/10 [==============================] - 2s 187ms/step - loss: 0.7582 - acc: 0.7283 - val_loss: 0.6691 - val_acc: 0.5600\n",
      "Epoch 3/30\n",
      "10/10 [==============================] - 2s 191ms/step - loss: 0.3641 - acc: 0.8417 - val_loss: 0.9011 - val_acc: 0.5533\n",
      "Epoch 4/30\n",
      "10/10 [==============================] - 2s 190ms/step - loss: 0.2747 - acc: 0.8817 - val_loss: 0.7902 - val_acc: 0.5467\n",
      "Epoch 5/30\n",
      "10/10 [==============================] - 2s 183ms/step - loss: 0.2067 - acc: 0.9133 - val_loss: 0.6782 - val_acc: 0.5667\n",
      "Epoch 6/30\n",
      "10/10 [==============================] - 2s 184ms/step - loss: 0.1490 - acc: 0.9433 - val_loss: 0.5911 - val_acc: 0.5933\n",
      "Epoch 7/30\n",
      "10/10 [==============================] - 2s 184ms/step - loss: 0.1352 - acc: 0.9517 - val_loss: 0.4913 - val_acc: 0.6733\n",
      "Epoch 8/30\n",
      "10/10 [==============================] - 2s 203ms/step - loss: 0.1434 - acc: 0.9367 - val_loss: 0.4369 - val_acc: 0.7867\n",
      "Epoch 9/30\n",
      "10/10 [==============================] - 2s 195ms/step - loss: 0.1074 - acc: 0.9683 - val_loss: 0.4034 - val_acc: 0.8400\n",
      "Epoch 10/30\n",
      "10/10 [==============================] - 2s 187ms/step - loss: 0.0817 - acc: 0.9783 - val_loss: 0.4239 - val_acc: 0.7733\n",
      "Epoch 11/30\n",
      "10/10 [==============================] - 2s 186ms/step - loss: 0.0761 - acc: 0.9800 - val_loss: 0.3926 - val_acc: 0.8200\n",
      "Epoch 12/30\n",
      "10/10 [==============================] - 2s 185ms/step - loss: 0.0791 - acc: 0.9783 - val_loss: 0.3768 - val_acc: 0.8267\n",
      "Epoch 13/30\n",
      "10/10 [==============================] - 2s 184ms/step - loss: 0.0857 - acc: 0.9667 - val_loss: 0.3591 - val_acc: 0.8467\n",
      "Epoch 14/30\n",
      "10/10 [==============================] - 2s 183ms/step - loss: 0.0636 - acc: 0.9833 - val_loss: 0.4154 - val_acc: 0.7533\n",
      "Epoch 15/30\n",
      "10/10 [==============================] - 2s 187ms/step - loss: 0.0719 - acc: 0.9800 - val_loss: 0.3231 - val_acc: 0.9200\n",
      "Epoch 16/30\n",
      "10/10 [==============================] - 2s 182ms/step - loss: 0.0631 - acc: 0.9817 - val_loss: 0.3171 - val_acc: 0.9000\n",
      "Epoch 17/30\n",
      "10/10 [==============================] - 2s 182ms/step - loss: 0.0642 - acc: 0.9783 - val_loss: 0.3206 - val_acc: 0.9133\n",
      "Epoch 18/30\n",
      "10/10 [==============================] - 2s 183ms/step - loss: 0.0451 - acc: 0.9933 - val_loss: 0.3198 - val_acc: 0.9133\n",
      "Epoch 19/30\n",
      "10/10 [==============================] - 2s 194ms/step - loss: 0.0367 - acc: 0.9933 - val_loss: 0.3296 - val_acc: 0.8733\n",
      "Epoch 20/30\n",
      "10/10 [==============================] - 2s 184ms/step - loss: 0.0387 - acc: 0.9933 - val_loss: 0.2809 - val_acc: 0.9400\n",
      "Epoch 21/30\n",
      "10/10 [==============================] - 2s 184ms/step - loss: 0.0381 - acc: 0.9850 - val_loss: 0.2763 - val_acc: 0.9400\n",
      "Epoch 22/30\n",
      "10/10 [==============================] - 2s 183ms/step - loss: 0.0319 - acc: 0.9917 - val_loss: 0.2480 - val_acc: 0.9467\n",
      "Epoch 23/30\n",
      "10/10 [==============================] - 2s 195ms/step - loss: 0.0302 - acc: 0.9933 - val_loss: 0.2676 - val_acc: 0.9200\n",
      "Epoch 24/30\n",
      "10/10 [==============================] - 2s 196ms/step - loss: 0.0280 - acc: 0.9933 - val_loss: 0.2320 - val_acc: 0.9600\n",
      "Epoch 25/30\n",
      "10/10 [==============================] - 2s 185ms/step - loss: 0.0274 - acc: 0.9950 - val_loss: 0.2419 - val_acc: 0.9467\n",
      "Epoch 26/30\n",
      "10/10 [==============================] - 2s 183ms/step - loss: 0.0249 - acc: 0.9917 - val_loss: 0.2101 - val_acc: 0.9533\n",
      "Epoch 27/30\n",
      "10/10 [==============================] - 2s 184ms/step - loss: 0.0240 - acc: 0.9917 - val_loss: 0.2128 - val_acc: 0.9467\n",
      "Epoch 28/30\n",
      "10/10 [==============================] - 2s 186ms/step - loss: 0.0241 - acc: 0.9933 - val_loss: 0.2436 - val_acc: 0.9133\n",
      "Epoch 29/30\n",
      "10/10 [==============================] - 2s 184ms/step - loss: 0.0247 - acc: 0.9933 - val_loss: 0.2366 - val_acc: 0.9267\n",
      "Epoch 30/30\n",
      "10/10 [==============================] - 2s 188ms/step - loss: 0.0303 - acc: 0.9917 - val_loss: 0.1624 - val_acc: 0.9667\n"
     ]
    }
   ],
   "source": [
    "history2 = model2.fit(\n",
    "    train_set_x_orig, \n",
    "    y_train, \n",
    "    epochs=30, \n",
    "    batch_size=64, \n",
    "    validation_data=(test_set_x_orig, y_test))"
   ]
  },
  {
   "cell_type": "markdown",
   "id": "782b522d",
   "metadata": {},
   "source": [
    "<h1>RESULT VISUALIZATION - MODEL 2</h1>"
   ]
  },
  {
   "cell_type": "code",
   "execution_count": 23,
   "id": "deef56c3",
   "metadata": {},
   "outputs": [
    {
     "data": {
      "image/png": "[encoded data removed]",
      "text/plain": [
       "<Figure size 640x480 with 1 Axes>"
      ]
     },
     "metadata": {},
     "output_type": "display_data"
    }
   ],
   "source": [
    "#train and validation loss\n",
    "plot(history2.history, 2)"
   ]
  },
  {
   "cell_type": "code",
   "execution_count": null,
   "id": "374a6987",
   "metadata": {},
   "outputs": [],
   "source": [
    "#train and validation accuracy plot\n",
    "plot(history2.history)"
   ]
  },
  {
   "cell_type": "code",
   "execution_count": null,
   "id": "0d5bbf98",
   "metadata": {},
   "outputs": [],
   "source": []
  }
 ],
 "metadata": {
  "kernelspec": {
   "display_name": "Python 3 (ipykernel)",
   "language": "python",
   "name": "python3"
  },
  "language_info": {
   "codemirror_mode": {
    "name": "ipython",
    "version": 3
   },
   "file_extension": ".py",
   "mimetype": "text/x-python",
   "name": "python",
   "nbconvert_exporter": "python",
   "pygments_lexer": "ipython3",
   "version": "3.10.12"
  }
 },
 "nbformat": 4,
 "nbformat_minor": 5
}
